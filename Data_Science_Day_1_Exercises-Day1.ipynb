{
 "cells": [
  {
   "cell_type": "markdown",
   "metadata": {},
   "source": [
    "# Exercises"
   ]
  },
  {
   "cell_type": "markdown",
   "metadata": {},
   "source": [
    "### #1 - Calculate the BMI (body mass index) on the two lists below using NDArrays..."
   ]
  },
  {
   "cell_type": "code",
   "execution_count": 3,
   "metadata": {},
   "outputs": [
    {
     "name": "stdout",
     "output_type": "stream",
     "text": [
      "[16.86620458 17.87755102 18.82562984 19.71450617 20.54794521 21.32943755\n",
      " 22.06222222]\n"
     ]
    }
   ],
   "source": [
    "# formula = weight / (height**2) * 730\n",
    "height = [69, 70, 71, 72, 73, 74, 75]\n",
    "weight = [110, 120, 130, 140, 150, 160, 170]\n",
    "\n",
    "import numpy as np\n",
    "\n",
    "arr1 = np.array(height)\n",
    "arr2 = np.array(weight)\n",
    "\n",
    "result = arr2 / (arr1**2) * 730\n",
    "print(result)\n"
   ]
  },
  {
   "cell_type": "markdown",
   "metadata": {},
   "source": [
    "### #2 - Create a function that will take in two parameters and will create a random matrix based off of those parameters. Extra: Have additional parameters taken in that allow the user to choose the shape and data type of the matrix."
   ]
  },
  {
   "cell_type": "code",
   "execution_count": 11,
   "metadata": {},
   "outputs": [
    {
     "name": "stdout",
     "output_type": "stream",
     "text": [
      "[[4 4 5 5]\n",
      " [0 1 2 1]\n",
      " [0 1 5 2]\n",
      " [1 4 1 5]]\n"
     ]
    }
   ],
   "source": [
    "def choosey_rando(par1, par2):\n",
    "    create = np.random.uniform(0, par1, (par2, par2))\n",
    "    create = create.astype(np.int32)\n",
    "    print(create)\n",
    "    \n",
    "par1 = 6\n",
    "par2 = 4\n",
    "\n",
    "choosey_rando(par1, par2)"
   ]
  },
  {
   "cell_type": "markdown",
   "metadata": {},
   "source": [
    "### #3 - Extra: Open and load the data in the two text files that have the Boston Red Sox hitting data for the past two seasons. Compare the difference in the two years by putting the data into an NDArray and running a differencial operation on it."
   ]
  },
  {
   "cell_type": "code",
   "execution_count": 23,
   "metadata": {},
   "outputs": [],
   "source": [
    "import csv\n",
    "import numpy as np\n",
    "\n",
    "#Test to make sure you have the correct data\n",
    "def open_txt(filename, d=','):\n",
    "    #Open CSV -- RedSox hitting.txt\n",
    "    data = []\n",
    "    with open(filename, encoding='utf-8') as mData:\n",
    "        info = csv.reader(mData, delimiter=d)\n",
    "        for row in info:\n",
    "            data.append(row)\n",
    "    return data\n",
    "\n",
    "data_2017 = open_txt('files/redsox_2017_hitting.txt')\n",
    "data_2018 = open_txt('files/redsox_2018_hitting.txt')\n"
   ]
  },
  {
   "cell_type": "code",
   "execution_count": 34,
   "metadata": {},
   "outputs": [
    {
     "name": "stdout",
     "output_type": "stream",
     "text": [
      "2017 had 1667 hits & home runs and 2018 had 1713 for a dif of -46\n",
      "[ 99 147 126 166  73 175 135 190 143  68  64  40  61  28  24  25  20  15\n",
      "  16   9   1   1   1]\n",
      "[ 52 114 137 171 129 184 124 212 231  96  55  47  51  45  33  17   9   4\n",
      "   1   1]\n"
     ]
    }
   ],
   "source": [
    "FIELDS = ['Rk', 'Pos', 'Name', 'Age', 'G', 'PA', 'AB', 'R', 'H', '2B', '3B', 'HR', 'RBI', 'SB', 'CS', \n",
    "          'BB', 'SO', 'BA', 'OBP', 'SLG', 'OPS', 'OPS+', 'TB', 'GDP', 'HBP', 'SH', 'SF', 'IBB']\n",
    "\n",
    "DATATYPES = [('rk', 'i'), ('pos', '|S25'), ('name', '|S25'), ('age', 'i'), ('g', 'i'), ('pa', 'i'), ('ab', 'i'),\n",
    "                ('r', 'i'), ('h', 'i'), ('2b', 'i'), ('3b', 'i'), ('hr', 'i'), ('rbi', 'i'), ('sb', 'i'), ('cs', 'i'),\n",
    "                ('bb', 'i'), ('so', 'i'), ('ba', 'f'), ('obp', 'f'), ('slg', 'f'), ('ops', 'f'), ('opsp', 'i'),\n",
    "                ('tb', 'i'), ('gdp', 'i'), ('hbp', 'i'), ('sh', 'i'), ('sf', 'i'), ('ibb', 'i')]\n",
    "\n",
    "#Use this function to actually open the data inside of a NDArray\n",
    "\n",
    "def load_data(filename, d=','):\n",
    "    data = np.genfromtxt(filename, delimiter = d, skip_header = 1, usecols = np.arange(0, 24), invalid_raise = False, names = FIELDS, dtype = DATATYPES)\n",
    "    return data\n",
    "    \n",
    "    \n",
    "rs2017 = load_data('files/redsox_2017_hitting.txt')\n",
    "rs2018 = load_data('files/redsox_2018_hitting.txt')\n",
    "\n",
    "#Compare the difference in the two years by putting\n",
    "#the data into an NDArray and running a differencial operation on it.\n",
    "\n",
    "hits2017 = int((sum(rs2017['H']))) + int((sum(rs2018['HR'])))\n",
    "hits2018 = (sum(rs2018['H'])) + (sum(rs2018['HR']))\n",
    "dif = hits2017 - hits2018\n",
    "print(\"2017 had {} hits & home runs and 2018 had {} for a dif of {}\".format(hits2017, hits2018, dif))\n",
    "\n",
    "arr1 = np.array(rs2017['H'] + rs2017['HR'])\n",
    "arr2 = np.array(rs2018['H'] + rs2018['HR'])\n",
    "print(arr1)\n",
    "print(arr2)\n",
    "\n",
    "# diffo = arr1 - arr2\n",
    "# print(\"Here's an array for that: 2017 is {}. 2018 is {}. Dif is \".format(arr1, arr2))\n"
   ]
  }
 ],
 "metadata": {
  "kernelspec": {
   "display_name": "Python 3",
   "language": "python",
   "name": "python3"
  },
  "language_info": {
   "codemirror_mode": {
    "name": "ipython",
    "version": 3
   },
   "file_extension": ".py",
   "mimetype": "text/x-python",
   "name": "python",
   "nbconvert_exporter": "python",
   "pygments_lexer": "ipython3",
   "version": "3.7.3"
  }
 },
 "nbformat": 4,
 "nbformat_minor": 2
}
